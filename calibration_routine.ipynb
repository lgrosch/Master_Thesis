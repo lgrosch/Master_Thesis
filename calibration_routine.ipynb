{
 "cells": [
  {
   "cell_type": "markdown",
   "id": "73524116",
   "metadata": {},
   "source": [
    "\"\"\"\n",
    "\n",
    "Last change on Tue Aug 27 2024\n",
    "\n",
    "\n",
    "Calculation of calibrations factors between instruments and corresponding errors\n",
    "\n",
    "\n",
    "data filter adapted from Herkommer et al. 2024:\n",
    "Herkommer, B. and Alberti, C. and Castracane, P. and Chen, J. and Dehn, A. and Dietrich, F. and Deutscher, \n",
    "N. M. and Frey, M. M. and Groß, J. and Gillespie, L. and Hase, F. and Morino, I. and Pak, N. M. and Walker, \n",
    "B. and Wunch, D.:\n",
    "Using a portable FTIR spectrometer to evaluate the consistency of Total Carbon Column Observing Network (TCCON) \n",
    "measurements on a global scale: the Collaborative Carbon Column Observing Network (COCCON) travel standard\n",
    "Atmos. Meas. Tech., 17, 3467-3494\n",
    "https://amt.copernicus.org/articles/17/3467/2024/\n",
    "doi     = 10.5194/amt-17-3467-2024\n",
    "\n",
    "\n",
    "costfunction adapted from Frey et al. 2015:\n",
    "Frey, M., Hase, F., Blumenstock, T., Groß, J., Kiel, M., Mengistu Tsidu, G., Schäfer, K., Sha, M. K., and Orphal, J.: \n",
    "Calibration and instrumental line shape characterization of a set of portable FTIR spectrometers for detecting greenhouse \n",
    "gas emissions,\n",
    "Atmos. Meas. Tech., 8, 3047–3057, \n",
    "https://doi.org/10.5194/amt-8-3047-2015.\n",
    "\n",
    "\n",
    "with inputs from andreas.luther@tum.de\n",
    "\n",
    "\n",
    "@author: lgrosch@iup.physik.uni-bremen.de\n",
    "\n",
    "\"\"\""
   ]
  },
  {
   "cell_type": "code",
   "execution_count": 2,
   "id": "d3403a77",
   "metadata": {},
   "outputs": [],
   "source": [
    "import numpy as np\n",
    "\n",
    "import matplotlib.pyplot as plt\n",
    "\n",
    "import pandas as pd\n",
    "\n",
    "import os\n",
    "\n",
    "from scipy.optimize import minimize"
   ]
  },
  {
   "cell_type": "markdown",
   "id": "c8be8f92",
   "metadata": {},
   "source": [
    "# To be changed before running the code:\n",
    "    - path to reference data (ref) and data to be calibrated (cal)\n",
    "    - instrument properties (XAir and XGas accuracies)\n",
    "    - date for data to be evaluated"
   ]
  },
  {
   "cell_type": "markdown",
   "id": "cb9a87c7",
   "metadata": {},
   "source": [
    "# Path to data"
   ]
  },
  {
   "cell_type": "code",
   "execution_count": 3,
   "id": "67151985",
   "metadata": {},
   "outputs": [],
   "source": [
    "# XCO2, XCO and XCH4 data is stored in .csv files in:\n",
    "\n",
    "X_path = \"C:/Users/admin/Desktop/Bremen/Semester_4_24/Masterarbeit/calibration_routine/\"\n",
    "\n",
    "\n",
    "# Location of side-by-side measurements\n",
    "\n",
    "station = \"Bremen\""
   ]
  },
  {
   "cell_type": "code",
   "execution_count": 4,
   "id": "178c61c3",
   "metadata": {},
   "outputs": [],
   "source": [
    "# Data used for reference\n",
    "\n",
    "ref_start_date = \"240508\"          # format: YYMMDD\n",
    "\n",
    "ref_end_date = \"240514\"            # format: YYMMDD\n",
    "\n",
    "ref_instr = \"HR\"\n",
    "\n",
    "\n",
    "# Read in data used for reference\n",
    "\n",
    "ref_da = pd.read_csv(os.path.join(\n",
    "                        X_path, \"comb_invparms_\" + station + \"_\" + ref_instr + \"_\" + ref_start_date + \"-\" + ref_end_date + \".csv\"),\n",
    "                     sep=\"\\t\",\n",
    "                    )"
   ]
  },
  {
   "cell_type": "code",
   "execution_count": 5,
   "id": "dbe6013b",
   "metadata": {},
   "outputs": [],
   "source": [
    "# Data to be calibrated\n",
    "\n",
    "cal_start_date = \"240508\"          # format: YYMMDD\n",
    "\n",
    "cal_end_date = \"240514\"            # format: YYMMDD\n",
    "\n",
    "cal_instr = \"SN082\"\n",
    "\n",
    "\n",
    "# Read in data to be calibrated\n",
    "\n",
    "cal_da = pd.read_csv(os.path.join(\n",
    "                        X_path, \"comb_invparms_\" + station + \"_\" + cal_instr + \"_\" + cal_start_date + \"-\" + cal_end_date + \".csv\"),\n",
    "                     sep=\"\\t\",\n",
    "                    )"
   ]
  },
  {
   "cell_type": "markdown",
   "id": "54c40bdb",
   "metadata": {},
   "source": [
    "# Required functions"
   ]
  },
  {
   "cell_type": "code",
   "execution_count": 6,
   "id": "49bc1a88",
   "metadata": {},
   "outputs": [],
   "source": [
    "# Filter function for outliers and high SZA\n",
    "\n",
    "def filter_data(input_da, lower_xair, upper_xair):\n",
    "    \n",
    "    # Remove values with solar zenith angles larger than 80 degrees\n",
    "    sza_filtered = input_da[input_da.appSZA <= 80]\n",
    "    \n",
    "    # Remove XAir outliers\n",
    "    xair_filtered = sza_filtered[(sza_filtered[\"XAIR\"] <= upper_xair) & (sza_filtered[\"XAIR\"] >= lower_xair)]\n",
    "    \n",
    "    # Remove data outliers\n",
    "    output_da = xair_filtered[\n",
    "    (xair_filtered[\"XCO2\"] <= 450) & (xair_filtered[\"XCO2\"] >= 350) & \n",
    "    (xair_filtered[\"XCO\"] <= 0.2) & (xair_filtered[\"XCO\"] >= 0.04) & \n",
    "    (xair_filtered[\"XCH4\"] <= 1.95) & (xair_filtered[\"XCH4\"] >= 1.6)]\n",
    "\n",
    "    return output_da"
   ]
  },
  {
   "cell_type": "code",
   "execution_count": 7,
   "id": "ffbefff3",
   "metadata": {},
   "outputs": [],
   "source": [
    "# Data preparation function for bin averaging\n",
    "\n",
    "def prep_data(input_data):\n",
    "\n",
    "    # Sort according to time\n",
    "    input_data.sort_values(by=[\"UTC\"], ignore_index=True)  \n",
    "    \n",
    "    \n",
    "    # Round away microseconds\n",
    "    input_data[\"UTC\"] = pd.to_datetime(input_data[\"UTC\"]).round(\"1s\") \n",
    "    \n",
    "    \n",
    "    # Group data to 10 min intevals\n",
    "    grouped = input_data.groupby(pd.Grouper(key=\"UTC\", axis=0, freq=\"10T\"))\n",
    "    counts = grouped.size()\n",
    "    \n",
    "    \n",
    "    # Keep only data with at least four values per bin\n",
    "    filtered_groups = grouped.filter(lambda x: len(x) >= 4)\n",
    "       \n",
    "\n",
    "    # Compute the mean of the values within the 10-minute intervals\n",
    "    averaged_groups = (\n",
    "        filtered_groups.groupby(pd.Grouper(key=\"UTC\", axis=0, freq=\"10T\"))\n",
    "        .mean()\n",
    "        .reset_index()\n",
    "    )\n",
    "    \n",
    "    # Add the 'count' column indicating number of values per bin to the averaged groups for error calculation later\n",
    "    count_series = counts[averaged_groups.index].reset_index(drop=True)\n",
    "    averaged_groups['Count'] = count_series.values\n",
    "    \n",
    "    \n",
    "    # Drop NaN columns and rows with all NaN\n",
    "    output_first = averaged_groups.dropna(axis=1, how='all')\n",
    "    output_data = output_first.dropna(axis=0, how='any')\n",
    "    \n",
    "\n",
    "    return output_data"
   ]
  },
  {
   "cell_type": "code",
   "execution_count": 8,
   "id": "4d9c34ed",
   "metadata": {},
   "outputs": [],
   "source": [
    "# Define the cost function\n",
    "\n",
    "def cost_function(cal_factor, cal_values, ref_values, cal_errors, ref_errors):\n",
    "    residual = np.power((cal_values/cal_factor - ref_values)/np.sqrt(cal_errors**2+ref_errors**2), 2)\n",
    "    return np.sum(residual)\n"
   ]
  },
  {
   "cell_type": "code",
   "execution_count": 9,
   "id": "133803a2",
   "metadata": {},
   "outputs": [],
   "source": [
    "# Optimize calibration factor for each species\n",
    "\n",
    "def find_calibration_factor(cal_day, ref_day, species):\n",
    "    \n",
    "    # Initial guess for calibration factor\n",
    "    initial_cal_factor = 1.0\n",
    "    \n",
    "    # Extract data for the given species\n",
    "    cal_values = cal_day[species].values\n",
    "    ref_values = ref_day[species].values\n",
    "    cal_errors = cal_day[species].values\n",
    "    ref_errors = ref_day[species].values\n",
    "    \n",
    "    # Minimize cost function\n",
    "    result = minimize(cost_function, initial_cal_factor, args=(cal_values, ref_values, ref_errors, cal_errors), method='SLSQP', bounds=[(0, None)])\n",
    "    \n",
    "    return result.x[0]  # Optimal calibration factor"
   ]
  },
  {
   "cell_type": "code",
   "execution_count": 10,
   "id": "7602ce40",
   "metadata": {},
   "outputs": [],
   "source": [
    "# Error calculation\n",
    "\n",
    "def calculate_weighted_std_dev(cal_values, ref_values, cal_errors, ref_errors, cal_factor):\n",
    "    # Calculate K = cal / ref for every single bin\n",
    "    K = cal_values / ref_values\n",
    "    \n",
    "    # Compute uncertainties in K using propagation of errors\n",
    "    sigma_K = K * np.sqrt((cal_errors / cal_values)**2 + (ref_errors / ref_values)**2)\n",
    "    \n",
    "    # Calculate the weighted squared deviations between K values and the calibration factor\n",
    "    weighted_squared_deviations = (K - cal_factor)**2 / sigma_K**2\n",
    "    \n",
    "    # Calculate the weighted variance\n",
    "    weighted_variance = np.sum(weighted_squared_deviations) / np.sum(1 / sigma_K**2)\n",
    "    \n",
    "    # Calculate the weighted standard deviation\n",
    "    weighted_std_dev = np.sqrt(weighted_variance)\n",
    "    \n",
    "    return weighted_std_dev"
   ]
  },
  {
   "cell_type": "markdown",
   "id": "17fb4a6b",
   "metadata": {},
   "source": [
    "# Properties of the reference instrument (ref) and the instrument to be calibrated (cal)"
   ]
  },
  {
   "cell_type": "code",
   "execution_count": 11,
   "id": "270cfb87",
   "metadata": {},
   "outputs": [],
   "source": [
    "# Limits for used XAir values\n",
    "\n",
    "ref_lower_xair = 0.997\n",
    "ref_upper_xair = 1.003\n",
    "\n",
    "cal_lower_xair = 0.998\n",
    "cal_upper_xair = 1.002\n",
    "\n",
    "\n",
    "# Standard deviation of single measurement (derived by analysis of time interval with constant XGas abundance)\n",
    "\n",
    "ref_std_XCO2 = 0.12      #ppm\n",
    "ref_std_XCO  = 0.00019   #ppb\n",
    "ref_std_XCH4 = 0.00072   #ppm\n",
    "\n",
    "cal_std_XCO2 = 0.08      #ppm\n",
    "cal_std_XCO  = 0.00014   #ppb\n",
    "cal_std_XCH4 = 0.00047   #ppm\n"
   ]
  },
  {
   "cell_type": "markdown",
   "id": "8a8e2fbe",
   "metadata": {},
   "source": [
    "# Data preparation"
   ]
  },
  {
   "cell_type": "code",
   "execution_count": 12,
   "id": "6ce418d4",
   "metadata": {},
   "outputs": [],
   "source": [
    "# Remove outliers in XAir, XGas and values for high solar zenith angles\n",
    "\n",
    "ref_filtered = filter_data(ref_da, ref_lower_xair, ref_upper_xair)\n",
    "cal_filtered = filter_data(cal_da, cal_lower_xair, cal_upper_xair)"
   ]
  },
  {
   "cell_type": "code",
   "execution_count": 13,
   "id": "e566015e",
   "metadata": {},
   "outputs": [],
   "source": [
    "# Transform data to ten minute averages\n",
    "\n",
    "ref = prep_data(ref_filtered)\n",
    "cal = prep_data(cal_filtered)"
   ]
  },
  {
   "cell_type": "code",
   "execution_count": 14,
   "id": "d9051c6e",
   "metadata": {},
   "outputs": [],
   "source": [
    "# Find matching data\n",
    "\n",
    "time_matches = set(cal[\"UTC\"]).intersection(ref[\"UTC\"])\n",
    "\n",
    "ref = ref[ref[\"UTC\"].isin(time_matches)]\n",
    "cal = cal[cal[\"UTC\"].isin(time_matches)]\n",
    "\n",
    "\n",
    "\n",
    "# Set new column indexes for calculation of calibration factor\n",
    "\n",
    "ref.set_index(\"UTC\", inplace=True)\n",
    "cal.set_index(\"UTC\", inplace=True)\n"
   ]
  },
  {
   "cell_type": "code",
   "execution_count": 15,
   "id": "5e2d8375",
   "metadata": {},
   "outputs": [],
   "source": [
    "# Calcualte standard error for single bins\n",
    "\n",
    "ref['Error_XCO2'] = ref_std_XCO2 / np.sqrt(ref['Count'])            \n",
    "cal['Error_XCO2'] = cal_std_XCO2 / np.sqrt(cal['Count'])\n",
    "ref['Error_XCO'] = ref_std_XCO / np.sqrt(ref['Count'])          \n",
    "cal['Error_XCO'] = cal_std_XCO / np.sqrt(cal['Count'])\n",
    "ref['Error_XCH4'] = ref_std_XCH4 / np.sqrt(ref['Count'])        \n",
    "cal['Error_XCH4'] = cal_std_XCH4 / np.sqrt(cal['Count'])"
   ]
  },
  {
   "cell_type": "markdown",
   "id": "5daf5909",
   "metadata": {},
   "source": [
    "# Calculate day calibration factor"
   ]
  },
  {
   "cell_type": "code",
   "execution_count": 16,
   "id": "9748db11",
   "metadata": {},
   "outputs": [],
   "source": [
    "# Extract data for day of interest\n",
    "\n",
    "date = \"2024-05-08\"      #yyyy-mm-dd\n",
    "\n",
    "cal_day = cal.loc[date]\n",
    "ref_day = ref.loc[date]"
   ]
  },
  {
   "cell_type": "code",
   "execution_count": 17,
   "id": "a155a6be",
   "metadata": {},
   "outputs": [],
   "source": [
    "# Define species list\n",
    "species = [\"XCO2\", \"XCO\", \"XCH4\"]\n",
    "\n",
    "# Calculate calibration factors and errors for each species\n",
    "cal_factors = {}\n",
    "sigma_cal_factors = {}\n",
    "\n",
    "for specie in species:\n",
    "    # Calculate calibration factor\n",
    "    cal_factors[specie] = find_calibration_factor(cal_day, ref_day, specie)\n",
    "    \n",
    "    # Calculate error for the calibration factor\n",
    "    sigma_cal_factors[specie] = calculate_weighted_std_dev(\n",
    "        cal_values=cal_day[specie],\n",
    "        ref_values=ref_day[specie],\n",
    "        cal_errors=cal_day[f'Error_{specie}'],\n",
    "        ref_errors=ref_day[f'Error_{specie}'],\n",
    "        cal_factor=cal_factors[specie]\n",
    "    )"
   ]
  },
  {
   "cell_type": "code",
   "execution_count": 18,
   "id": "6a738faa",
   "metadata": {},
   "outputs": [
    {
     "name": "stdout",
     "output_type": "stream",
     "text": [
      "For the date 2024-05-08, the calibration factors are:\n",
      "  - XCO2: 0.998547 ± 0.000254\n",
      "  - XCO: 1.027336 ± 0.007102\n",
      "  - XCH4: 0.999082 ± 0.000426\n",
      "over 29 bins.\n"
     ]
    }
   ],
   "source": [
    "# Print daily mean calibration factors for CO2, CO, and CH4\n",
    "\n",
    "print(f\"For the date {date}, the calibration factors are:\")\n",
    "for specie in species:\n",
    "    cal_factor = round(cal_factors[specie], 6)\n",
    "    sigma_cal_factor = round(sigma_cal_factors[specie], 6)\n",
    "    print(f\"  - {specie}: {cal_factor} ± {sigma_cal_factor}\")\n",
    "\n",
    "print(f\"over {len(cal_day)} bins.\")\n"
   ]
  },
  {
   "cell_type": "code",
   "execution_count": null,
   "id": "88de7b7e",
   "metadata": {},
   "outputs": [],
   "source": []
  }
 ],
 "metadata": {
  "kernelspec": {
   "display_name": "Python 3 (ipykernel)",
   "language": "python",
   "name": "python3"
  },
  "language_info": {
   "codemirror_mode": {
    "name": "ipython",
    "version": 3
   },
   "file_extension": ".py",
   "mimetype": "text/x-python",
   "name": "python",
   "nbconvert_exporter": "python",
   "pygments_lexer": "ipython3",
   "version": "3.9.13"
  }
 },
 "nbformat": 4,
 "nbformat_minor": 5
}
